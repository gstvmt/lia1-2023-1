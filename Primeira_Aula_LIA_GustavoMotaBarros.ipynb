{
  "cells": [
    {
      "cell_type": "markdown",
      "metadata": {
        "id": "view-in-github",
        "colab_type": "text"
      },
      "source": [
        "<a href=\"https://colab.research.google.com/github/gstvmt/lia1-2023-1/blob/main/Primeira_Aula_LIA_GustavoMotaBarros.ipynb\" target=\"_parent\"><img src=\"https://colab.research.google.com/assets/colab-badge.svg\" alt=\"Open In Colab\"/></a>"
      ]
    },
    {
      "cell_type": "markdown",
      "id": "7eb3b003",
      "metadata": {
        "id": "7eb3b003"
      },
      "source": [
        "<hr style=\"height:10px\"> \n",
        " \n",
        "<div class='container2'>\n",
        "\t\t<div>\n",
        "\t\t\t<img src='https://3.bp.blogspot.com/-n_z36Em56RY/U9pwRro1MwI/AAAAAAABNas/B3G7ht0PZvc/s1600/IMAGEM-PATO+ENGRAVATADO-AZULeditededited1.jpg' ALIGN='left' style='width:10em height:10em'>\n",
        "\t\t</div>\t\n",
        "\t<div style='padding: 0 7em 2em 12em;'>\n",
        "\t<h1>Laboratório de Inovação e Automação 1 (LIA 1)</h1>\n",
        "\t<div style=\"font-size:12pt;float:left;\"> 2023/1 | 46M34 | Sala 200 CAE</div><br><br>\n",
        "    <div style=\"font-size:12pt;float:left;\"><b>Projetos de Inteligência Artificial</b></div>\n",
        "\t</div>\n",
        "</div>\n",
        "\n",
        "\n",
        " <hr style=\"height:5px\"> \n",
        "\n",
        "    \n",
        "<h2>Introdução ao Ambiente de Projetos</h2>\n",
        "\n",
        "Notebook desenvolvido por: <a href=\"http://lattes.cnpq.br/1346824250595330\">Gustavo Mota Barros</a>\n",
        "\n",
        " <hr style=\"height:2px\"> "
      ]
    },
    {
      "cell_type": "markdown",
      "id": "7355e799",
      "metadata": {
        "id": "7355e799"
      },
      "source": [
        "Cell -> Type-> Markdown // tranforma a celula em texto"
      ]
    },
    {
      "cell_type": "markdown",
      "id": "3299d126",
      "metadata": {
        "id": "3299d126"
      },
      "source": [
        "--> Eu sempre tenho que rodar uma celula de import para rodar uma funcao que pertence a esse import"
      ]
    },
    {
      "cell_type": "code",
      "execution_count": 1,
      "id": "e78edf5d",
      "metadata": {
        "id": "e78edf5d"
      },
      "outputs": [],
      "source": [
        "from platform import python_version"
      ]
    },
    {
      "cell_type": "code",
      "execution_count": 2,
      "id": "fa127626",
      "metadata": {
        "colab": {
          "base_uri": "https://localhost:8080/"
        },
        "id": "fa127626",
        "outputId": "da2a223d-ef9a-410b-a47c-1bd7dad4d439"
      },
      "outputs": [
        {
          "output_type": "stream",
          "name": "stdout",
          "text": [
            "A versao de python utilizada eh 3.10.11\n"
          ]
        }
      ],
      "source": [
        "print(f\"A versao de python utilizada eh {python_version()}\")"
      ]
    },
    {
      "cell_type": "code",
      "source": [
        "from google.colab import drive\n",
        "drive.mount('/content/drive')"
      ],
      "metadata": {
        "colab": {
          "base_uri": "https://localhost:8080/"
        },
        "id": "v_WjrwFioCvk",
        "outputId": "46904d06-ca38-47ba-e7f7-4693ea57a633"
      },
      "id": "v_WjrwFioCvk",
      "execution_count": 3,
      "outputs": [
        {
          "output_type": "stream",
          "name": "stdout",
          "text": [
            "Mounted at /content/drive\n"
          ]
        }
      ]
    },
    {
      "cell_type": "markdown",
      "id": "418b334d",
      "metadata": {
        "id": "418b334d"
      },
      "source": [
        "# Operadores aritmeticos"
      ]
    },
    {
      "cell_type": "code",
      "execution_count": null,
      "id": "e8d8f85c",
      "metadata": {
        "id": "e8d8f85c"
      },
      "outputs": [],
      "source": [
        "# Adicao\n",
        "1 + 1"
      ]
    },
    {
      "cell_type": "code",
      "execution_count": null,
      "id": "d40b580a",
      "metadata": {
        "id": "d40b580a"
      },
      "outputs": [],
      "source": [
        "# Subtracao\n",
        "5 - 3"
      ]
    },
    {
      "cell_type": "code",
      "execution_count": null,
      "id": "7830fe94",
      "metadata": {
        "id": "7830fe94"
      },
      "outputs": [],
      "source": [
        "# Multiplicacao\n",
        "3 * 4"
      ]
    },
    {
      "cell_type": "code",
      "execution_count": null,
      "id": "e72c479c",
      "metadata": {
        "id": "e72c479c"
      },
      "outputs": [],
      "source": [
        "# Divisao\n",
        "10 / 2"
      ]
    },
    {
      "cell_type": "code",
      "execution_count": null,
      "id": "d1438735",
      "metadata": {
        "id": "d1438735"
      },
      "outputs": [],
      "source": [
        "# Potencia\n",
        "2 ** 4"
      ]
    },
    {
      "cell_type": "code",
      "execution_count": null,
      "id": "37233078",
      "metadata": {
        "id": "37233078"
      },
      "outputs": [],
      "source": [
        "# Modulo\n",
        "10 % 3"
      ]
    },
    {
      "cell_type": "code",
      "execution_count": null,
      "id": "6dcc3211",
      "metadata": {
        "id": "6dcc3211"
      },
      "outputs": [],
      "source": [
        "# Divisao Euclidiana\n",
        "10 // 3"
      ]
    },
    {
      "cell_type": "markdown",
      "id": "b084f9eb",
      "metadata": {
        "id": "b084f9eb"
      },
      "source": [
        "# Tipos de Dados (type)"
      ]
    },
    {
      "cell_type": "code",
      "execution_count": null,
      "id": "194ce3e7",
      "metadata": {
        "id": "194ce3e7"
      },
      "outputs": [],
      "source": [
        "# Qual o tipo do (?) --> Inteiro\n",
        "type(12)"
      ]
    },
    {
      "cell_type": "code",
      "execution_count": null,
      "id": "8c70c67e",
      "metadata": {
        "id": "8c70c67e"
      },
      "outputs": [],
      "source": [
        "# Qual o tipo de (?) --> float\n",
        "type(13.5)"
      ]
    },
    {
      "cell_type": "code",
      "execution_count": null,
      "id": "1b63df9d",
      "metadata": {
        "id": "1b63df9d"
      },
      "outputs": [],
      "source": [
        "# Qual o tipo de (?) --> String\n",
        "var = \"opa\"\n",
        "type(var)"
      ]
    },
    {
      "cell_type": "markdown",
      "id": "731ec6a0",
      "metadata": {
        "id": "731ec6a0"
      },
      "source": [
        "# Condicional (if)"
      ]
    },
    {
      "cell_type": "code",
      "execution_count": null,
      "id": "4892abe0",
      "metadata": {
        "id": "4892abe0"
      },
      "outputs": [],
      "source": [
        "# condicional if (Se)\n",
        "if 12 < 15:\n",
        "    print(\"12 é menor que 15!\")"
      ]
    },
    {
      "cell_type": "code",
      "execution_count": null,
      "id": "8aae3217",
      "metadata": {
        "id": "8aae3217"
      },
      "outputs": [],
      "source": [
        "# Condicional if ... else\n",
        "if 10 > 5:\n",
        "    print(\"vim pelo if!\")\n",
        "else:\n",
        "    print(\"vim pelo else!\")"
      ]
    },
    {
      "cell_type": "code",
      "execution_count": null,
      "id": "632f3deb",
      "metadata": {
        "id": "632f3deb"
      },
      "outputs": [],
      "source": [
        "# Condicional if ... else com variavel\n",
        "dia = \"sexta-feira\"\n",
        "if dia == \"sabado\":\n",
        "    print(\"Hoje fara sol!\")\n",
        "else:\n",
        "    print(\"Hoje vai chover!\")"
      ]
    },
    {
      "cell_type": "markdown",
      "id": "7d867a1b",
      "metadata": {
        "id": "7d867a1b"
      },
      "source": [
        "# Manipulando arquivos"
      ]
    },
    {
      "cell_type": "markdown",
      "id": "e03864bf",
      "metadata": {
        "id": "e03864bf"
      },
      "source": [
        "## Lendo arquivos (.txt)"
      ]
    },
    {
      "cell_type": "code",
      "execution_count": 13,
      "id": "5f23d42b",
      "metadata": {
        "id": "5f23d42b"
      },
      "outputs": [],
      "source": [
        "# Abrindo o arquivo para leitura\n",
        "ai = open(\"/content/drive/MyDrive/Colab Notebooks/arquivos/arquivo1.txt\", \"r\")"
      ]
    },
    {
      "cell_type": "code",
      "execution_count": 14,
      "id": "404ab766",
      "metadata": {
        "colab": {
          "base_uri": "https://localhost:8080/"
        },
        "id": "404ab766",
        "outputId": "d737ba11-57e5-401b-a5ef-d126b07e9811"
      },
      "outputs": [
        {
          "output_type": "stream",
          "name": "stdout",
          "text": [
            "testando\n"
          ]
        }
      ],
      "source": [
        "# Lendo o arquivo\n",
        "print(ai.read())"
      ]
    },
    {
      "cell_type": "markdown",
      "id": "938ef3e3",
      "metadata": {
        "id": "938ef3e3"
      },
      "source": [
        "## Gravando arquivos (.txt)"
      ]
    },
    {
      "cell_type": "code",
      "execution_count": 15,
      "id": "ca689063",
      "metadata": {
        "id": "ca689063"
      },
      "outputs": [],
      "source": [
        "# Abrindo o arquivo para gravacao\n",
        "a2 = open(\"/content/drive/MyDrive/Colab Notebooks/arquivos/arquivo2.txt\",\"w\")"
      ]
    },
    {
      "cell_type": "code",
      "execution_count": 16,
      "id": "f041bf44",
      "metadata": {
        "colab": {
          "base_uri": "https://localhost:8080/"
        },
        "id": "f041bf44",
        "outputId": "8f86abc3-7d4d-44d9-c004-52e258106519"
      },
      "outputs": [
        {
          "output_type": "execute_result",
          "data": {
            "text/plain": [
              "18"
            ]
          },
          "metadata": {},
          "execution_count": 16
        }
      ],
      "source": [
        "# Gravando no arquivo\n",
        "a2.write(\"Aprendendo python!\")"
      ]
    },
    {
      "cell_type": "code",
      "execution_count": 17,
      "id": "ab261f80",
      "metadata": {
        "id": "ab261f80"
      },
      "outputs": [],
      "source": [
        "# Abrindo o arquivo para leitura\n",
        "a2 = open(\"/content/drive/MyDrive/Colab Notebooks/arquivos/arquivo2.txt\", \"r\")"
      ]
    },
    {
      "cell_type": "code",
      "execution_count": 18,
      "id": "d2f920c9",
      "metadata": {
        "colab": {
          "base_uri": "https://localhost:8080/"
        },
        "id": "d2f920c9",
        "outputId": "4b553031-616a-4db1-c272-f954bcb6b3e3"
      },
      "outputs": [
        {
          "output_type": "stream",
          "name": "stdout",
          "text": [
            "Aprendendo python!\n"
          ]
        }
      ],
      "source": [
        "# Imprimindo o arquivo\n",
        "print(a2.read())"
      ]
    }
  ],
  "metadata": {
    "kernelspec": {
      "display_name": "Python 3 (ipykernel)",
      "language": "python",
      "name": "python3"
    },
    "language_info": {
      "codemirror_mode": {
        "name": "ipython",
        "version": 3
      },
      "file_extension": ".py",
      "mimetype": "text/x-python",
      "name": "python",
      "nbconvert_exporter": "python",
      "pygments_lexer": "ipython3",
      "version": "3.10.9"
    },
    "colab": {
      "provenance": [],
      "include_colab_link": true
    },
    "gpuClass": "standard"
  },
  "nbformat": 4,
  "nbformat_minor": 5
}