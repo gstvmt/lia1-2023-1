{
 "cells": [
  {
   "cell_type": "markdown",
   "metadata": {},
   "source": [
    "<hr style=\"height:10px\"> \n",
    " \n",
    "<div class='container2'>\n",
    "\t\t<div>\n",
    "\t\t\t<img src='https://3.bp.blogspot.com/-n_z36Em56RY/U9pwRro1MwI/AAAAAAABNas/B3G7ht0PZvc/s1600/IMAGEM-PATO+ENGRAVATADO-AZULeditededited1.jpg' ALIGN='left' style='width:10em'>\n",
    "\t\t</div>\t\n",
    "\t<div style='padding: 0 7em 2em 12em;'>\n",
    "\t<h1>Laboratório de Inovação e Automação 1 (LIA 1)</h1>\n",
    "\t<div style=\"font-size:12pt;float:left;\"> 2023/1 | 46M34 | Sala 200 CAE</div><br><br>\n",
    "    <div style=\"font-size:12pt;float:left;\"><b>Projetos de Inteligência Artificial</b></div>\n",
    "\t</div>\n",
    "</div>\n",
    "\n",
    "\n",
    " <hr style=\"height:5px\"> \n",
    "\n",
    "    \n",
    "<h2>Aula 5 - Preparação e Análise de Dados</h2>\n",
    "\n",
    "Notebook desenvolvido por: <a href=\"http://lattes.cnpq.br/1346824250595330\">Prof. Dr. Adriano C. Santana</a>\n",
    "<br>Modificado por: Gustavo Mota Barros\n",
    "\n",
    " <hr style=\"height:2px\"> \n"
   ]
  },
  {
   "cell_type": "code",
   "execution_count": 1,
   "metadata": {},
   "outputs": [
    {
     "name": "stdout",
     "output_type": "stream",
     "text": [
      "A versão da linguagem Python usada neste projeto é a 3.10.9!\n"
     ]
    }
   ],
   "source": [
    "# Confirmar a versão da Linguagem Python instalada\n",
    "from platform import python_version\n",
    "print(f'A versão da linguagem Python usada neste projeto é a {python_version()}!')"
   ]
  },
  {
   "cell_type": "code",
   "execution_count": 2,
   "metadata": {
    "scrolled": true
   },
   "outputs": [
    {
     "name": "stdout",
     "output_type": "stream",
     "text": [
      "Bye bye, World!\n"
     ]
    }
   ],
   "source": [
    "# Verificar se o Python está funcionando\n",
    "print('Bye bye, World!')"
   ]
  },
  {
   "cell_type": "markdown",
   "metadata": {},
   "source": [
    "---\n",
    "## 1. Bibliotecas Necessárias para o Notebook (Aula)\n",
    "\n",
    "Para este notebook, deve ser utilizada a mesma versão apresentada pelo professor da disciplina.\n",
    "\n",
    "* [`matplotlib`](https://matplotlib.org/): construção e exibição de gráficos genéricos.\n",
    "* [`seaborn`](https://seaborn.pydata.org/): construção e exibição de gráficos específicos/estatísticas.\n",
    "* [`numpy`](https://numpy.org): manipulação de dados em formato de vetores e matrizes.\n",
    "* [`pandas`](https://pandas.pydata.org/pandas-docs/stable/index.html): manipulação de dados em formato de tabelas."
   ]
  },
  {
   "cell_type": "markdown",
   "metadata": {},
   "source": [
    "---\n",
    "## 2. Carregar e Exibir os Dados da Fonte\n",
    "\n",
    "Primeiro, vamos importar todas as bibliotecas que serão utilizadas no projeto."
   ]
  },
  {
   "cell_type": "code",
   "execution_count": 3,
   "metadata": {},
   "outputs": [
    {
     "name": "stdout",
     "output_type": "stream",
     "text": [
      "Bibliotecas carregadas com sucesso!\n"
     ]
    }
   ],
   "source": [
    "# importar a biblioteca - Todos os projetos passarão pelo Numpy!\n",
    "import numpy as np\n",
    "\n",
    "# importar a biblioteca - Excel do Python!\n",
    "import pandas as pd \n",
    "\n",
    "# importar as bibliotecas - Visualizar dados!\n",
    "import seaborn as sns\n",
    "import matplotlib.pyplot as plt\n",
    "\n",
    "print('Bibliotecas carregadas com sucesso!')\n",
    "\n",
    "# Instalação silenciosa\n",
    "#!pip install -q numpy"
   ]
  },
  {
   "cell_type": "markdown",
   "metadata": {},
   "source": [
    "---\n",
    "## 3. Introdução ao Dados\n",
    "\n",
    "A cada dia, uma enorme quantidade de dados é gerada de diferentes fontes. Um conjunto de dados é formado por objetos que representam algo físico (cadeira) ou abstrato (diagnóstico), sendo descrito por seus atributos. Deve-se realizar a caracterização dos dados e a exploração inicial com estatística e visualização básicas, conhecido como pré-processamento.\n",
    "\n",
    "O pré-processamento pode demandar tarefas de integração, eliminação manual, amostragem, balanceamento, limpeza, redução da dimensionalidade, transformação de dados etc., estando essas tarefas associadas à Mineração de Dados (MD), a qual foca no processo em si, em como realizar essas tarefas.\n",
    "\n",
    "A MD busca extrair conhecimento novo, útil e relevante, gerando as bases para a Ciência de Dados (CD), a qual foca no impacto e na relevância do conhecimento.\n",
    "\n",
    "#### Em resumo, MD (processo) e CD (dados)!"
   ]
  },
  {
   "cell_type": "markdown",
   "metadata": {},
   "source": [
    "---\n",
    "## Caracterização de dados\n",
    "\n",
    "Considere o conjunto de dados provenientes de pacientes de um hospital, denominado `hospital`."
   ]
  },
  {
   "cell_type": "code",
   "execution_count": 5,
   "metadata": {},
   "outputs": [
    {
     "name": "stdout",
     "output_type": "stream",
     "text": [
      "Dados importados com sucesso!\n"
     ]
    }
   ],
   "source": [
    "# importar o arquivo e guarda em um dataframe do Pandas\n",
    "df_dataset = pd.read_csv ( 'arquivos/hospital.txt', sep=',', index_col=None)\n",
    "\n",
    "print('Dados importados com sucesso!')"
   ]
  },
  {
   "cell_type": "code",
   "execution_count": 6,
   "metadata": {
    "scrolled": false
   },
   "outputs": [
    {
     "data": {
      "text/html": [
       "<div>\n",
       "<style scoped>\n",
       "    .dataframe tbody tr th:only-of-type {\n",
       "        vertical-align: middle;\n",
       "    }\n",
       "\n",
       "    .dataframe tbody tr th {\n",
       "        vertical-align: top;\n",
       "    }\n",
       "\n",
       "    .dataframe thead th {\n",
       "        text-align: right;\n",
       "    }\n",
       "</style>\n",
       "<table border=\"1\" class=\"dataframe\">\n",
       "  <thead>\n",
       "    <tr style=\"text-align: right;\">\n",
       "      <th></th>\n",
       "      <th>Id</th>\n",
       "      <th>Nome</th>\n",
       "      <th>Idade</th>\n",
       "      <th>Sexo</th>\n",
       "      <th>Peso</th>\n",
       "      <th>Manchas</th>\n",
       "      <th>Temp</th>\n",
       "      <th>Internação</th>\n",
       "      <th>Estado</th>\n",
       "      <th>Time</th>\n",
       "      <th>Diagnóstico</th>\n",
       "    </tr>\n",
       "  </thead>\n",
       "  <tbody>\n",
       "    <tr>\n",
       "      <th>0</th>\n",
       "      <td>4201</td>\n",
       "      <td>João</td>\n",
       "      <td>55</td>\n",
       "      <td>M</td>\n",
       "      <td>90.0</td>\n",
       "      <td>Concentradas</td>\n",
       "      <td>38.0</td>\n",
       "      <td>2</td>\n",
       "      <td>SP</td>\n",
       "      <td>Palmeiras</td>\n",
       "      <td>Doente</td>\n",
       "    </tr>\n",
       "    <tr>\n",
       "      <th>1</th>\n",
       "      <td>3217</td>\n",
       "      <td>Maria</td>\n",
       "      <td>56</td>\n",
       "      <td>F</td>\n",
       "      <td>91.0</td>\n",
       "      <td>Inexistentes</td>\n",
       "      <td>39.5</td>\n",
       "      <td>4</td>\n",
       "      <td>MG</td>\n",
       "      <td>Cruzeiro</td>\n",
       "      <td>Doente</td>\n",
       "    </tr>\n",
       "    <tr>\n",
       "      <th>2</th>\n",
       "      <td>4039</td>\n",
       "      <td>Luiz</td>\n",
       "      <td>49</td>\n",
       "      <td>M</td>\n",
       "      <td>92.0</td>\n",
       "      <td>Espalhadas</td>\n",
       "      <td>38.0</td>\n",
       "      <td>2</td>\n",
       "      <td>RS</td>\n",
       "      <td>Grêmio</td>\n",
       "      <td>Saudável</td>\n",
       "    </tr>\n",
       "    <tr>\n",
       "      <th>3</th>\n",
       "      <td>1920</td>\n",
       "      <td>José</td>\n",
       "      <td>57</td>\n",
       "      <td>M</td>\n",
       "      <td>93.0</td>\n",
       "      <td>Inexistentes</td>\n",
       "      <td>38.5</td>\n",
       "      <td>2</td>\n",
       "      <td>MG</td>\n",
       "      <td>Atlético</td>\n",
       "      <td>Doente</td>\n",
       "    </tr>\n",
       "    <tr>\n",
       "      <th>4</th>\n",
       "      <td>4340</td>\n",
       "      <td>Cláudia</td>\n",
       "      <td>21</td>\n",
       "      <td>F</td>\n",
       "      <td>52.0</td>\n",
       "      <td>Uniformes</td>\n",
       "      <td>37.6</td>\n",
       "      <td>1</td>\n",
       "      <td>PE</td>\n",
       "      <td>Sport</td>\n",
       "      <td>Saudável</td>\n",
       "    </tr>\n",
       "  </tbody>\n",
       "</table>\n",
       "</div>"
      ],
      "text/plain": [
       "     Id     Nome  Idade Sexo  Peso       Manchas  Temp  Internação Estado  \\\n",
       "0  4201     João     55    M  90.0  Concentradas  38.0           2     SP   \n",
       "1  3217    Maria     56    F  91.0  Inexistentes  39.5           4     MG   \n",
       "2  4039     Luiz     49    M  92.0    Espalhadas  38.0           2     RS   \n",
       "3  1920     José     57    M  93.0  Inexistentes  38.5           2     MG   \n",
       "4  4340  Cláudia     21    F  52.0     Uniformes  37.6           1     PE   \n",
       "\n",
       "        Time Diagnóstico  \n",
       "0  Palmeiras      Doente  \n",
       "1   Cruzeiro      Doente  \n",
       "2     Grêmio    Saudável  \n",
       "3   Atlético      Doente  \n",
       "4      Sport    Saudável  "
      ]
     },
     "metadata": {},
     "output_type": "display_data"
    }
   ],
   "source": [
    "# exibir uma amostra do dataframe\n",
    "display(df_dataset.head())"
   ]
  },
  {
   "cell_type": "code",
   "execution_count": 7,
   "metadata": {
    "scrolled": true
   },
   "outputs": [
    {
     "data": {
      "text/html": [
       "<div>\n",
       "<style scoped>\n",
       "    .dataframe tbody tr th:only-of-type {\n",
       "        vertical-align: middle;\n",
       "    }\n",
       "\n",
       "    .dataframe tbody tr th {\n",
       "        vertical-align: top;\n",
       "    }\n",
       "\n",
       "    .dataframe thead th {\n",
       "        text-align: right;\n",
       "    }\n",
       "</style>\n",
       "<table border=\"1\" class=\"dataframe\">\n",
       "  <thead>\n",
       "    <tr style=\"text-align: right;\">\n",
       "      <th></th>\n",
       "      <th>Id</th>\n",
       "      <th>Nome</th>\n",
       "      <th>Idade</th>\n",
       "      <th>Sexo</th>\n",
       "      <th>Peso</th>\n",
       "      <th>Manchas</th>\n",
       "      <th>Temp</th>\n",
       "      <th>Internação</th>\n",
       "      <th>Estado</th>\n",
       "      <th>Time</th>\n",
       "      <th>Diagnóstico</th>\n",
       "    </tr>\n",
       "  </thead>\n",
       "  <tbody>\n",
       "    <tr>\n",
       "      <th>0</th>\n",
       "      <td>4201</td>\n",
       "      <td>João</td>\n",
       "      <td>55</td>\n",
       "      <td>M</td>\n",
       "      <td>90.0</td>\n",
       "      <td>Concentradas</td>\n",
       "      <td>38.0</td>\n",
       "      <td>2</td>\n",
       "      <td>SP</td>\n",
       "      <td>Palmeiras</td>\n",
       "      <td>Doente</td>\n",
       "    </tr>\n",
       "    <tr>\n",
       "      <th>1</th>\n",
       "      <td>3217</td>\n",
       "      <td>Maria</td>\n",
       "      <td>56</td>\n",
       "      <td>F</td>\n",
       "      <td>91.0</td>\n",
       "      <td>Inexistentes</td>\n",
       "      <td>39.5</td>\n",
       "      <td>4</td>\n",
       "      <td>MG</td>\n",
       "      <td>Cruzeiro</td>\n",
       "      <td>Doente</td>\n",
       "    </tr>\n",
       "    <tr>\n",
       "      <th>2</th>\n",
       "      <td>4039</td>\n",
       "      <td>Luiz</td>\n",
       "      <td>49</td>\n",
       "      <td>M</td>\n",
       "      <td>92.0</td>\n",
       "      <td>Espalhadas</td>\n",
       "      <td>38.0</td>\n",
       "      <td>2</td>\n",
       "      <td>RS</td>\n",
       "      <td>Grêmio</td>\n",
       "      <td>Saudável</td>\n",
       "    </tr>\n",
       "    <tr>\n",
       "      <th>3</th>\n",
       "      <td>1920</td>\n",
       "      <td>José</td>\n",
       "      <td>57</td>\n",
       "      <td>M</td>\n",
       "      <td>93.0</td>\n",
       "      <td>Inexistentes</td>\n",
       "      <td>38.5</td>\n",
       "      <td>2</td>\n",
       "      <td>MG</td>\n",
       "      <td>Atlético</td>\n",
       "      <td>Doente</td>\n",
       "    </tr>\n",
       "    <tr>\n",
       "      <th>4</th>\n",
       "      <td>4340</td>\n",
       "      <td>Cláudia</td>\n",
       "      <td>21</td>\n",
       "      <td>F</td>\n",
       "      <td>52.0</td>\n",
       "      <td>Uniformes</td>\n",
       "      <td>37.6</td>\n",
       "      <td>1</td>\n",
       "      <td>PE</td>\n",
       "      <td>Sport</td>\n",
       "      <td>Saudável</td>\n",
       "    </tr>\n",
       "    <tr>\n",
       "      <th>5</th>\n",
       "      <td>2301</td>\n",
       "      <td>Ana</td>\n",
       "      <td>58</td>\n",
       "      <td>F</td>\n",
       "      <td>94.0</td>\n",
       "      <td>Inexistentes</td>\n",
       "      <td>38.0</td>\n",
       "      <td>3</td>\n",
       "      <td>RJ</td>\n",
       "      <td>Botafogo</td>\n",
       "      <td>Doente</td>\n",
       "    </tr>\n",
       "    <tr>\n",
       "      <th>6</th>\n",
       "      <td>1322</td>\n",
       "      <td>Marta</td>\n",
       "      <td>19</td>\n",
       "      <td>F</td>\n",
       "      <td>87.0</td>\n",
       "      <td>Espalhadas</td>\n",
       "      <td>39.0</td>\n",
       "      <td>3</td>\n",
       "      <td>AM</td>\n",
       "      <td>Flamengo</td>\n",
       "      <td>Doente</td>\n",
       "    </tr>\n",
       "    <tr>\n",
       "      <th>7</th>\n",
       "      <td>3027</td>\n",
       "      <td>Paulo</td>\n",
       "      <td>34</td>\n",
       "      <td>M</td>\n",
       "      <td>67.0</td>\n",
       "      <td>Uniformes</td>\n",
       "      <td>38.4</td>\n",
       "      <td>2</td>\n",
       "      <td>GO</td>\n",
       "      <td>Vila Nova</td>\n",
       "      <td>Saudável</td>\n",
       "    </tr>\n",
       "  </tbody>\n",
       "</table>\n",
       "</div>"
      ],
      "text/plain": [
       "     Id     Nome  Idade Sexo  Peso       Manchas  Temp  Internação Estado  \\\n",
       "0  4201     João     55    M  90.0  Concentradas  38.0           2     SP   \n",
       "1  3217    Maria     56    F  91.0  Inexistentes  39.5           4     MG   \n",
       "2  4039     Luiz     49    M  92.0    Espalhadas  38.0           2     RS   \n",
       "3  1920     José     57    M  93.0  Inexistentes  38.5           2     MG   \n",
       "4  4340  Cláudia     21    F  52.0     Uniformes  37.6           1     PE   \n",
       "5  2301      Ana     58    F  94.0  Inexistentes  38.0           3     RJ   \n",
       "6  1322    Marta     19    F  87.0    Espalhadas  39.0           3     AM   \n",
       "7  3027    Paulo     34    M  67.0     Uniformes  38.4           2     GO   \n",
       "\n",
       "        Time Diagnóstico  \n",
       "0  Palmeiras      Doente  \n",
       "1   Cruzeiro      Doente  \n",
       "2     Grêmio    Saudável  \n",
       "3   Atlético      Doente  \n",
       "4      Sport    Saudável  \n",
       "5   Botafogo      Doente  \n",
       "6   Flamengo      Doente  \n",
       "7  Vila Nova    Saudável  "
      ]
     },
     "metadata": {},
     "output_type": "display_data"
    }
   ],
   "source": [
    "# exibir todo dataframe\n",
    "display(df_dataset.head(n=8))"
   ]
  },
  {
   "cell_type": "markdown",
   "metadata": {},
   "source": [
    "Cada objeto corresponde a um paciente, sendo formado pelos atributos de entrada referentes ao paciente. \n",
    "\n",
    "Os atributos (identificação; nome; idade; sexo; peso; internação; estado; time; sintomas e resultados clínicos. Os sintomas são (manchas; e temperatura). O atributo alvo: `diagnóstico`. *Esse atributo alvo é necessário em tarefas preditivas. Em tarefas descritivas é desnecessário!*"
   ]
  },
  {
   "cell_type": "code",
   "execution_count": 8,
   "metadata": {},
   "outputs": [
    {
     "data": {
      "text/plain": [
       "<Axes: ylabel='Internação'>"
      ]
     },
     "execution_count": 8,
     "metadata": {},
     "output_type": "execute_result"
    },
    {
     "data": {
      "image/png": "[encoded data removed]",
      "text/plain": [
       "<Figure size 640x480 with 1 Axes>"
      ]
     },
     "metadata": {},
     "output_type": "display_data"
    }
   ],
   "source": [
    "df_dataset.groupby('Diagnóstico').count().plot.pie(y = 'Internação')"
   ]
  },
  {
   "cell_type": "markdown",
   "metadata": {},
   "source": [
    "---\n",
    "## Considerações finais:\n",
    "\n",
    "Antes de aplicar algoritmos de AM a um conjunto de dados, é importante que os dados sejam analisados. Essa análise, que pode ser realizada por técnicas estatísticas e de visualização, permite uma melhor compreensão da distribuição dos dados e pode dar suporte à escolha de formas de abordar o problema.\n",
    "\n",
    "Foram apresentados conceitos considerados importantes para analisar os principais aspectos de um conjunto de dados. Após uma caracterização dos tipos de dados, foram apresentadas algumas técnicas"
   ]
  },
  {
   "cell_type": "markdown",
   "metadata": {},
   "source": [
    "## Graficos com matplotlib"
   ]
  },
  {
   "cell_type": "code",
   "execution_count": 12,
   "metadata": {},
   "outputs": [
    {
     "data": {
      "text/plain": [
       "Text(0.5, 1.0, 'Numero de interção dos pacientes')"
      ]
     },
     "execution_count": 12,
     "metadata": {},
     "output_type": "execute_result"
    },
    {
     "data": {
      "image/png": "[encoded data removed]",
      "text/plain": [
       "<Figure size 640x480 with 1 Axes>"
      ]
     },
     "metadata": {},
     "output_type": "display_data"
    }
   ],
   "source": [
    "df_dataset.plot.bar(x='Id',y='Internação')\n",
    "plt.title(\"Numero de interção dos pacientes\")"
   ]
  },
  {
   "cell_type": "code",
   "execution_count": 64,
   "metadata": {},
   "outputs": [
    {
     "data": {
      "text/html": [
       "<div>\n",
       "<style scoped>\n",
       "    .dataframe tbody tr th:only-of-type {\n",
       "        vertical-align: middle;\n",
       "    }\n",
       "\n",
       "    .dataframe tbody tr th {\n",
       "        vertical-align: top;\n",
       "    }\n",
       "\n",
       "    .dataframe thead tr th {\n",
       "        text-align: left;\n",
       "    }\n",
       "\n",
       "    .dataframe thead tr:last-of-type th {\n",
       "        text-align: right;\n",
       "    }\n",
       "</style>\n",
       "<table border=\"1\" class=\"dataframe\">\n",
       "  <thead>\n",
       "    <tr>\n",
       "      <th></th>\n",
       "      <th colspan=\"8\" halign=\"left\">Id</th>\n",
       "      <th colspan=\"2\" halign=\"left\">Idade</th>\n",
       "      <th>...</th>\n",
       "      <th colspan=\"2\" halign=\"left\">Temp</th>\n",
       "      <th colspan=\"8\" halign=\"left\">Internação</th>\n",
       "    </tr>\n",
       "    <tr>\n",
       "      <th></th>\n",
       "      <th>count</th>\n",
       "      <th>mean</th>\n",
       "      <th>std</th>\n",
       "      <th>min</th>\n",
       "      <th>25%</th>\n",
       "      <th>50%</th>\n",
       "      <th>75%</th>\n",
       "      <th>max</th>\n",
       "      <th>count</th>\n",
       "      <th>mean</th>\n",
       "      <th>...</th>\n",
       "      <th>75%</th>\n",
       "      <th>max</th>\n",
       "      <th>count</th>\n",
       "      <th>mean</th>\n",
       "      <th>std</th>\n",
       "      <th>min</th>\n",
       "      <th>25%</th>\n",
       "      <th>50%</th>\n",
       "      <th>75%</th>\n",
       "      <th>max</th>\n",
       "    </tr>\n",
       "    <tr>\n",
       "      <th>Time</th>\n",
       "      <th></th>\n",
       "      <th></th>\n",
       "      <th></th>\n",
       "      <th></th>\n",
       "      <th></th>\n",
       "      <th></th>\n",
       "      <th></th>\n",
       "      <th></th>\n",
       "      <th></th>\n",
       "      <th></th>\n",
       "      <th></th>\n",
       "      <th></th>\n",
       "      <th></th>\n",
       "      <th></th>\n",
       "      <th></th>\n",
       "      <th></th>\n",
       "      <th></th>\n",
       "      <th></th>\n",
       "      <th></th>\n",
       "      <th></th>\n",
       "      <th></th>\n",
       "    </tr>\n",
       "  </thead>\n",
       "  <tbody>\n",
       "    <tr>\n",
       "      <th>Atlético</th>\n",
       "      <td>1.0</td>\n",
       "      <td>1920.0</td>\n",
       "      <td>NaN</td>\n",
       "      <td>1920.0</td>\n",
       "      <td>1920.00</td>\n",
       "      <td>1920.0</td>\n",
       "      <td>1920.00</td>\n",
       "      <td>1920.0</td>\n",
       "      <td>1.0</td>\n",
       "      <td>57.0</td>\n",
       "      <td>...</td>\n",
       "      <td>38.50</td>\n",
       "      <td>38.5</td>\n",
       "      <td>1.0</td>\n",
       "      <td>2.0</td>\n",
       "      <td>NaN</td>\n",
       "      <td>2.0</td>\n",
       "      <td>2.00</td>\n",
       "      <td>2.0</td>\n",
       "      <td>2.00</td>\n",
       "      <td>2.0</td>\n",
       "    </tr>\n",
       "    <tr>\n",
       "      <th>Botafogo</th>\n",
       "      <td>2.0</td>\n",
       "      <td>4527.5</td>\n",
       "      <td>3148.746497</td>\n",
       "      <td>2301.0</td>\n",
       "      <td>3414.25</td>\n",
       "      <td>4527.5</td>\n",
       "      <td>5640.75</td>\n",
       "      <td>6754.0</td>\n",
       "      <td>2.0</td>\n",
       "      <td>45.5</td>\n",
       "      <td>...</td>\n",
       "      <td>38.00</td>\n",
       "      <td>38.0</td>\n",
       "      <td>2.0</td>\n",
       "      <td>3.0</td>\n",
       "      <td>0.000000</td>\n",
       "      <td>3.0</td>\n",
       "      <td>3.00</td>\n",
       "      <td>3.0</td>\n",
       "      <td>3.00</td>\n",
       "      <td>3.0</td>\n",
       "    </tr>\n",
       "    <tr>\n",
       "      <th>Cruzeiro</th>\n",
       "      <td>2.0</td>\n",
       "      <td>3217.0</td>\n",
       "      <td>0.000000</td>\n",
       "      <td>3217.0</td>\n",
       "      <td>3217.00</td>\n",
       "      <td>3217.0</td>\n",
       "      <td>3217.00</td>\n",
       "      <td>3217.0</td>\n",
       "      <td>2.0</td>\n",
       "      <td>37.0</td>\n",
       "      <td>...</td>\n",
       "      <td>39.50</td>\n",
       "      <td>39.5</td>\n",
       "      <td>2.0</td>\n",
       "      <td>4.0</td>\n",
       "      <td>0.000000</td>\n",
       "      <td>4.0</td>\n",
       "      <td>4.00</td>\n",
       "      <td>4.0</td>\n",
       "      <td>4.00</td>\n",
       "      <td>4.0</td>\n",
       "    </tr>\n",
       "    <tr>\n",
       "      <th>Flamengo</th>\n",
       "      <td>2.0</td>\n",
       "      <td>1528.5</td>\n",
       "      <td>292.035101</td>\n",
       "      <td>1322.0</td>\n",
       "      <td>1425.25</td>\n",
       "      <td>1528.5</td>\n",
       "      <td>1631.75</td>\n",
       "      <td>1735.0</td>\n",
       "      <td>2.0</td>\n",
       "      <td>16.0</td>\n",
       "      <td>...</td>\n",
       "      <td>30.75</td>\n",
       "      <td>39.0</td>\n",
       "      <td>2.0</td>\n",
       "      <td>3.5</td>\n",
       "      <td>0.707107</td>\n",
       "      <td>3.0</td>\n",
       "      <td>3.25</td>\n",
       "      <td>3.5</td>\n",
       "      <td>3.75</td>\n",
       "      <td>4.0</td>\n",
       "    </tr>\n",
       "    <tr>\n",
       "      <th>Grêmio</th>\n",
       "      <td>1.0</td>\n",
       "      <td>4039.0</td>\n",
       "      <td>NaN</td>\n",
       "      <td>4039.0</td>\n",
       "      <td>4039.00</td>\n",
       "      <td>4039.0</td>\n",
       "      <td>4039.00</td>\n",
       "      <td>4039.0</td>\n",
       "      <td>1.0</td>\n",
       "      <td>49.0</td>\n",
       "      <td>...</td>\n",
       "      <td>38.00</td>\n",
       "      <td>38.0</td>\n",
       "      <td>1.0</td>\n",
       "      <td>2.0</td>\n",
       "      <td>NaN</td>\n",
       "      <td>2.0</td>\n",
       "      <td>2.00</td>\n",
       "      <td>2.0</td>\n",
       "      <td>2.00</td>\n",
       "      <td>2.0</td>\n",
       "    </tr>\n",
       "    <tr>\n",
       "      <th>Palmeiras</th>\n",
       "      <td>2.0</td>\n",
       "      <td>4201.0</td>\n",
       "      <td>0.000000</td>\n",
       "      <td>4201.0</td>\n",
       "      <td>4201.00</td>\n",
       "      <td>4201.0</td>\n",
       "      <td>4201.00</td>\n",
       "      <td>4201.0</td>\n",
       "      <td>2.0</td>\n",
       "      <td>41.5</td>\n",
       "      <td>...</td>\n",
       "      <td>38.00</td>\n",
       "      <td>38.0</td>\n",
       "      <td>2.0</td>\n",
       "      <td>2.0</td>\n",
       "      <td>0.000000</td>\n",
       "      <td>2.0</td>\n",
       "      <td>2.00</td>\n",
       "      <td>2.0</td>\n",
       "      <td>2.00</td>\n",
       "      <td>2.0</td>\n",
       "    </tr>\n",
       "    <tr>\n",
       "      <th>Sport</th>\n",
       "      <td>2.0</td>\n",
       "      <td>3943.0</td>\n",
       "      <td>561.442784</td>\n",
       "      <td>3546.0</td>\n",
       "      <td>3744.50</td>\n",
       "      <td>3943.0</td>\n",
       "      <td>4141.50</td>\n",
       "      <td>4340.0</td>\n",
       "      <td>2.0</td>\n",
       "      <td>32.5</td>\n",
       "      <td>...</td>\n",
       "      <td>37.60</td>\n",
       "      <td>37.6</td>\n",
       "      <td>2.0</td>\n",
       "      <td>1.0</td>\n",
       "      <td>0.000000</td>\n",
       "      <td>1.0</td>\n",
       "      <td>1.00</td>\n",
       "      <td>1.0</td>\n",
       "      <td>1.00</td>\n",
       "      <td>1.0</td>\n",
       "    </tr>\n",
       "    <tr>\n",
       "      <th>Vila Nova</th>\n",
       "      <td>2.0</td>\n",
       "      <td>6430.5</td>\n",
       "      <td>4813.275860</td>\n",
       "      <td>3027.0</td>\n",
       "      <td>4728.75</td>\n",
       "      <td>6430.5</td>\n",
       "      <td>8132.25</td>\n",
       "      <td>9834.0</td>\n",
       "      <td>2.0</td>\n",
       "      <td>49.5</td>\n",
       "      <td>...</td>\n",
       "      <td>38.40</td>\n",
       "      <td>38.4</td>\n",
       "      <td>2.0</td>\n",
       "      <td>2.0</td>\n",
       "      <td>0.000000</td>\n",
       "      <td>2.0</td>\n",
       "      <td>2.00</td>\n",
       "      <td>2.0</td>\n",
       "      <td>2.00</td>\n",
       "      <td>2.0</td>\n",
       "    </tr>\n",
       "  </tbody>\n",
       "</table>\n",
       "<p>8 rows × 40 columns</p>\n",
       "</div>"
      ],
      "text/plain": [
       "             Id                                                         \\\n",
       "          count    mean          std     min      25%     50%      75%   \n",
       "Time                                                                     \n",
       "Atlético    1.0  1920.0          NaN  1920.0  1920.00  1920.0  1920.00   \n",
       "Botafogo    2.0  4527.5  3148.746497  2301.0  3414.25  4527.5  5640.75   \n",
       "Cruzeiro    2.0  3217.0     0.000000  3217.0  3217.00  3217.0  3217.00   \n",
       "Flamengo    2.0  1528.5   292.035101  1322.0  1425.25  1528.5  1631.75   \n",
       "Grêmio      1.0  4039.0          NaN  4039.0  4039.00  4039.0  4039.00   \n",
       "Palmeiras   2.0  4201.0     0.000000  4201.0  4201.00  4201.0  4201.00   \n",
       "Sport       2.0  3943.0   561.442784  3546.0  3744.50  3943.0  4141.50   \n",
       "Vila Nova   2.0  6430.5  4813.275860  3027.0  4728.75  6430.5  8132.25   \n",
       "\n",
       "                  Idade        ...   Temp       Internação                 \\\n",
       "              max count  mean  ...    75%   max      count mean       std   \n",
       "Time                           ...                                          \n",
       "Atlético   1920.0   1.0  57.0  ...  38.50  38.5        1.0  2.0       NaN   \n",
       "Botafogo   6754.0   2.0  45.5  ...  38.00  38.0        2.0  3.0  0.000000   \n",
       "Cruzeiro   3217.0   2.0  37.0  ...  39.50  39.5        2.0  4.0  0.000000   \n",
       "Flamengo   1735.0   2.0  16.0  ...  30.75  39.0        2.0  3.5  0.707107   \n",
       "Grêmio     4039.0   1.0  49.0  ...  38.00  38.0        1.0  2.0       NaN   \n",
       "Palmeiras  4201.0   2.0  41.5  ...  38.00  38.0        2.0  2.0  0.000000   \n",
       "Sport      4340.0   2.0  32.5  ...  37.60  37.6        2.0  1.0  0.000000   \n",
       "Vila Nova  9834.0   2.0  49.5  ...  38.40  38.4        2.0  2.0  0.000000   \n",
       "\n",
       "                                      \n",
       "           min   25%  50%   75%  max  \n",
       "Time                                  \n",
       "Atlético   2.0  2.00  2.0  2.00  2.0  \n",
       "Botafogo   3.0  3.00  3.0  3.00  3.0  \n",
       "Cruzeiro   4.0  4.00  4.0  4.00  4.0  \n",
       "Flamengo   3.0  3.25  3.5  3.75  4.0  \n",
       "Grêmio     2.0  2.00  2.0  2.00  2.0  \n",
       "Palmeiras  2.0  2.00  2.0  2.00  2.0  \n",
       "Sport      1.0  1.00  1.0  1.00  1.0  \n",
       "Vila Nova  2.0  2.00  2.0  2.00  2.0  \n",
       "\n",
       "[8 rows x 40 columns]"
      ]
     },
     "execution_count": 64,
     "metadata": {},
     "output_type": "execute_result"
    }
   ],
   "source": [
    "df_dataset.groupby(\"Time\").describe()"
   ]
  },
  {
   "cell_type": "code",
   "execution_count": 81,
   "metadata": {},
   "outputs": [
    {
     "data": {
      "text/plain": [
       "Text(0.5, 1.0, 'Temperatura media dos torcedores')"
      ]
     },
     "execution_count": 81,
     "metadata": {},
     "output_type": "execute_result"
    },
    {
     "data": {
      "image/png": "[encoded data removed]",
      "text/plain": [
       "<Figure size 640x480 with 1 Axes>"
      ]
     },
     "metadata": {},
     "output_type": "display_data"
    }
   ],
   "source": [
    "lista_times = []\n",
    "for i in df_dataset[\"Time\"]:\n",
    "    lista_times.append(i)\n",
    "    \n",
    "lista_temperaturas = []\n",
    "for i in lista_times:\n",
    "    lista_temperaturas.append(df_dataset.groupby(\"Time\").get_group(i)[\"Temp\"].mean())\n",
    "    \n",
    "##print(df_dataset.groupby(\"Time\").get_group(\"Flamengo\")[\"Temp\"].mean()) \n",
    "\n",
    "plt.stem(lista_times, lista_temperaturas)\n",
    "plt.title('Temperatura media dos torcedores')"
   ]
  },
  {
   "cell_type": "markdown",
   "metadata": {},
   "source": [
    "## Graficos com Seaborn"
   ]
  },
  {
   "cell_type": "code",
   "execution_count": 84,
   "metadata": {},
   "outputs": [
    {
     "data": {
      "text/plain": [
       "Text(0.5, 1.0, 'Manchas x Peso')"
      ]
     },
     "execution_count": 84,
     "metadata": {},
     "output_type": "execute_result"
    },
    {
     "data": {
      "image/png": "[encoded data removed]",
      "text/plain": [
       "<Figure size 640x480 with 1 Axes>"
      ]
     },
     "metadata": {},
     "output_type": "display_data"
    }
   ],
   "source": [
    "scplot= sns.scatterplot(\n",
    "        data=df_dataset,\n",
    "        x=\"Peso\",\n",
    "        y=\"Manchas\"\n",
    "        )\n",
    "scplot.set_title(\"Manchas x Peso\")"
   ]
  },
  {
   "cell_type": "code",
   "execution_count": 85,
   "metadata": {},
   "outputs": [
    {
     "data": {
      "text/plain": [
       "Text(0.5, 1.0, 'Internação x Idade')"
      ]
     },
     "execution_count": 85,
     "metadata": {},
     "output_type": "execute_result"
    },
    {
     "data": {
      "image/png": "[encoded data removed]",
      "text/plain": [
       "<Figure size 640x480 with 1 Axes>"
      ]
     },
     "metadata": {},
     "output_type": "display_data"
    }
   ],
   "source": [
    "graf = sns.lineplot(data=df_dataset,\n",
    "                    x=\"Idade\",\n",
    "                    y=\"Internação\",\n",
    "                    color=\"Blue\"\n",
    "                   )\n",
    "graf.set_title(\"Internação x Idade\")"
   ]
  }
 ],
 "metadata": {
  "kernelspec": {
   "display_name": "Python 3 (ipykernel)",
   "language": "python",
   "name": "python3"
  },
  "language_info": {
   "codemirror_mode": {
    "name": "ipython",
    "version": 3
   },
   "file_extension": ".py",
   "mimetype": "text/x-python",
   "name": "python",
   "nbconvert_exporter": "python",
   "pygments_lexer": "ipython3",
   "version": "3.9.13"
  }
 },
 "nbformat": 4,
 "nbformat_minor": 4
}
