{
 "cells": [
  {
   "cell_type": "markdown",
   "id": "7eb3b003",
   "metadata": {},
   "source": [
    "<hr style=\"height:10px\"> \n",
    " \n",
    "<div class='container2'>\n",
    "\t\t<div>\n",
    "\t\t\t<img src='https://3.bp.blogspot.com/-n_z36Em56RY/U9pwRro1MwI/AAAAAAABNas/B3G7ht0PZvc/s1600/IMAGEM-PATO+ENGRAVATADO-AZULeditededited1.jpg' ALIGN='left' style='width:10em'>\n",
    "\t\t</div>\t\n",
    "\t<div style='padding: 0 7em 2em 12em;'>\n",
    "\t<h1>Laboratório de Inovação e Automação 1 (LIA 1)</h1>\n",
    "\t<div style=\"font-size:12pt;float:left;\"> 2023/1 | 46M34 | Sala 200 CAE</div><br><br>\n",
    "    <div style=\"font-size:12pt;float:left;\"><b>Projetos de Inteligência Artificial</b></div>\n",
    "\t</div>\n",
    "</div>\n",
    "\n",
    "\n",
    " <hr style=\"height:5px\"> \n",
    "\n",
    "    \n",
    "<h2>Introdução ao Ambiente de Projetos</h2>\n",
    "\n",
    "Notebook desenvolvido por: <a href=\"http://lattes.cnpq.br/1346824250595330\">Gustavo Mota Barros</a>\n",
    "\n",
    " <hr style=\"height:2px\"> "
   ]
  },
  {
   "cell_type": "markdown",
   "id": "7355e799",
   "metadata": {},
   "source": [
    "Cell -> Type-> Markdown // tranforma a celula em texto"
   ]
  },
  {
   "cell_type": "markdown",
   "id": "3299d126",
   "metadata": {},
   "source": [
    "--> Eu sempre tenho que rodar uma celula de import para rodar uma funcao que pertence a esse import"
   ]
  },
  {
   "cell_type": "code",
   "execution_count": null,
   "id": "e78edf5d",
   "metadata": {},
   "outputs": [],
   "source": [
    "from platform import python_version"
   ]
  },
  {
   "cell_type": "code",
   "execution_count": null,
   "id": "fa127626",
   "metadata": {},
   "outputs": [],
   "source": [
    "print(f\"A versao de python utilizada eh {python_version()}\")"
   ]
  },
  {
   "cell_type": "markdown",
   "id": "418b334d",
   "metadata": {},
   "source": [
    "# Operadores aritmeticos"
   ]
  },
  {
   "cell_type": "code",
   "execution_count": null,
   "id": "e8d8f85c",
   "metadata": {},
   "outputs": [],
   "source": [
    "# Adicao\n",
    "1 + 1"
   ]
  },
  {
   "cell_type": "code",
   "execution_count": null,
   "id": "d40b580a",
   "metadata": {},
   "outputs": [],
   "source": [
    "# Subtracao\n",
    "5 - 3"
   ]
  },
  {
   "cell_type": "code",
   "execution_count": null,
   "id": "7830fe94",
   "metadata": {},
   "outputs": [],
   "source": [
    "# Multiplicacao\n",
    "3 * 4"
   ]
  },
  {
   "cell_type": "code",
   "execution_count": null,
   "id": "e72c479c",
   "metadata": {},
   "outputs": [],
   "source": [
    "# Divisao\n",
    "10 / 2"
   ]
  },
  {
   "cell_type": "code",
   "execution_count": null,
   "id": "d1438735",
   "metadata": {},
   "outputs": [],
   "source": [
    "# Potencia\n",
    "2 ** 4"
   ]
  },
  {
   "cell_type": "code",
   "execution_count": null,
   "id": "37233078",
   "metadata": {},
   "outputs": [],
   "source": [
    "# Modulo\n",
    "10 % 3"
   ]
  },
  {
   "cell_type": "code",
   "execution_count": null,
   "id": "6dcc3211",
   "metadata": {},
   "outputs": [],
   "source": [
    "# Divisao Euclidiana\n",
    "10 // 3"
   ]
  },
  {
   "cell_type": "markdown",
   "id": "b084f9eb",
   "metadata": {},
   "source": [
    "# Tipos de Dados (type)"
   ]
  },
  {
   "cell_type": "code",
   "execution_count": null,
   "id": "194ce3e7",
   "metadata": {},
   "outputs": [],
   "source": [
    "# Qual o tipo do (?) --> Inteiro\n",
    "type(12)"
   ]
  },
  {
   "cell_type": "code",
   "execution_count": null,
   "id": "8c70c67e",
   "metadata": {},
   "outputs": [],
   "source": [
    "# Qual o tipo de (?) --> float\n",
    "type(13.5)"
   ]
  },
  {
   "cell_type": "code",
   "execution_count": null,
   "id": "1b63df9d",
   "metadata": {},
   "outputs": [],
   "source": [
    "# Qual o tipo de (?) --> String\n",
    "var = \"opa\"\n",
    "type(var)"
   ]
  },
  {
   "cell_type": "markdown",
   "id": "731ec6a0",
   "metadata": {},
   "source": [
    "# Condicional (if)"
   ]
  },
  {
   "cell_type": "code",
   "execution_count": null,
   "id": "4892abe0",
   "metadata": {},
   "outputs": [],
   "source": [
    "# condicional if (Se)\n",
    "if 12 < 15:\n",
    "    print(\"12 é menor que 15!\")"
   ]
  },
  {
   "cell_type": "code",
   "execution_count": null,
   "id": "8aae3217",
   "metadata": {},
   "outputs": [],
   "source": [
    "# Condicional if ... else\n",
    "if 10 > 5:\n",
    "    print(\"vim pelo if!\")\n",
    "else:\n",
    "    print(\"vim pelo else!\")"
   ]
  },
  {
   "cell_type": "code",
   "execution_count": null,
   "id": "632f3deb",
   "metadata": {},
   "outputs": [],
   "source": [
    "# Condicional if ... else com variavel\n",
    "dia = \"sexta-feira\"\n",
    "if dia == \"sabado\":\n",
    "    print(\"Hoje fara sol!\")\n",
    "else:\n",
    "    print(\"Hoje vai chover!\")"
   ]
  },
  {
   "cell_type": "markdown",
   "id": "7d867a1b",
   "metadata": {},
   "source": [
    "# Manipulando arquivos"
   ]
  },
  {
   "cell_type": "markdown",
   "id": "e03864bf",
   "metadata": {},
   "source": [
    "## Lendo arquivos (.txt)"
   ]
  },
  {
   "cell_type": "code",
   "execution_count": null,
   "id": "5f23d42b",
   "metadata": {},
   "outputs": [],
   "source": [
    "# Abrindo o arquivo para leitura\n",
    "ai = open(\"arquivos/arquivo1.txt\", \"r\")"
   ]
  },
  {
   "cell_type": "code",
   "execution_count": null,
   "id": "404ab766",
   "metadata": {},
   "outputs": [],
   "source": [
    "# Lendo o arquivo\n",
    "print(ai.read())"
   ]
  },
  {
   "cell_type": "markdown",
   "id": "938ef3e3",
   "metadata": {},
   "source": [
    "## Gravando arquivos (.txt)"
   ]
  },
  {
   "cell_type": "code",
   "execution_count": null,
   "id": "ca689063",
   "metadata": {},
   "outputs": [],
   "source": [
    "# Abrindo o arquivo para gravacao\n",
    "a2 = open(\"arquvos/arquivo2.txt\",\"w\")"
   ]
  },
  {
   "cell_type": "code",
   "execution_count": null,
   "id": "f041bf44",
   "metadata": {},
   "outputs": [],
   "source": [
    "# Gravando no arquivo\n",
    "a2.write(\"Aprendendo python!\")"
   ]
  },
  {
   "cell_type": "code",
   "execution_count": null,
   "id": "ab261f80",
   "metadata": {},
   "outputs": [],
   "source": [
    "# Abrindo o arquivo para leitura\n",
    "a2 = open(\"Arquivo2.txt\", \"r\")"
   ]
  },
  {
   "cell_type": "code",
   "execution_count": null,
   "id": "d2f920c9",
   "metadata": {},
   "outputs": [],
   "source": [
    "# Imprimindo o arquivo\n",
    "print(a2.read())"
   ]
  }
 ],
 "metadata": {
  "kernelspec": {
   "display_name": "Python 3 (ipykernel)",
   "language": "python",
   "name": "python3"
  },
  "language_info": {
   "codemirror_mode": {
    "name": "ipython",
    "version": 3
   },
   "file_extension": ".py",
   "mimetype": "text/x-python",
   "name": "python",
   "nbconvert_exporter": "python",
   "pygments_lexer": "ipython3",
   "version": "3.10.9"
  }
 },
 "nbformat": 4,
 "nbformat_minor": 5
}
